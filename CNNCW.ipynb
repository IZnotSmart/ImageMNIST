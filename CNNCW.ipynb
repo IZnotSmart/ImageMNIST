{
 "cells": [
  {
   "cell_type": "markdown",
   "id": "6a04ee9b",
   "metadata": {},
   "source": [
    "# 21COC102 - Advanced Artificial Intelligent Systems\n",
    "<br>\n"
   ]
  },
  {
   "cell_type": "markdown",
   "id": "994f375a",
   "metadata": {},
   "source": [
    "## Base Model\n",
    "<br>\n",
    "https://machinelearningmastery.com/how-to-develop-a-convolutional-neural-network-from-scratch-for-mnist-handwritten-digit-classification/\n",
    "<br>\n",
    "Base model used  (I like his tutorials alot and has helped me learn and understand AI in depth in the past)"
   ]
  },
  {
   "cell_type": "code",
   "execution_count": 12,
   "id": "b3ee69a1",
   "metadata": {},
   "outputs": [],
   "source": [
    "import numpy as py\n",
    "from matplotlib import pyplot as plt\n",
    "import keras\n",
    "\n",
    "#MNIST data set and tensorflow\n",
    "from tensorflow.keras.datasets import mnist\n",
    "import tensorflow as tf\n",
    "from tensorflow.keras.utils import to_categorical\n",
    "from sklearn.model_selection import KFold\n",
    "from tensorflow.keras.models import Sequential\n",
    "from tensorflow.keras.layers import Conv2D\n",
    "from tensorflow.keras.layers import MaxPooling2D\n",
    "from tensorflow.keras.layers import Dense\n",
    "from tensorflow.keras.layers import Flatten\n",
    "from tensorflow.keras.optimizers import SGD\n",
    "\n",
    "from tensorflow.keras.layers import BatchNormalization\n",
    "from tensorflow.keras.layers import Dropout"
   ]
  },
  {
   "cell_type": "markdown",
   "id": "dcc85a91",
   "metadata": {},
   "source": [
    "The MNIST dataset contains 60,000 pre-aligned greyscale 28x28 pixel images. <br>\n",
    "Since there are 10 outputs/classes that are represented as integers, to_categorical function can be used to transform the integer into a binary vector with 10 elements.\n",
    "<br><br>\n",
    "Load the MNIST dataset, and reshape into a single colour channel."
   ]
  },
  {
   "cell_type": "code",
   "execution_count": 2,
   "id": "f0ef4d32",
   "metadata": {},
   "outputs": [],
   "source": [
    "#load data and reshape \n",
    "def loadMNIST():\n",
    "    #load dataset\n",
    "    (trainX, trainY), (testX, testY) = mnist.load_data()\n",
    "    #reshape\n",
    "    trainX = trainX.reshape((trainX.shape[0], 28, 28, 1))\n",
    "    testX = testX.reshape((testX.shape[0], 28, 28, 1))\n",
    "    trainY = to_categorical(trainY)\n",
    "    testY = to_categorical(testY)\n",
    "    print(\"MNIST loaded\")\n",
    "    return trainX, trainY, testX, testY"
   ]
  },
  {
   "cell_type": "markdown",
   "id": "597fe02d",
   "metadata": {},
   "source": [
    "The pixel values are values between 0 to 255, black to white. The method used to scale will be to normalise the pixel values to the range [0,1]\n",
    "<br><br>Normalise the pixel values (0 to 255) to [0,1]"
   ]
  },
  {
   "cell_type": "code",
   "execution_count": 3,
   "id": "960720e6",
   "metadata": {},
   "outputs": [],
   "source": [
    "#scale and normalise pixels\n",
    "def pixel(train, test):\n",
    "    train_norm = train.astype('float32')\n",
    "    test_norm = test.astype('float32')\n",
    "    #normalize to range 0-1\n",
    "    train_norm = train_norm / 255.0\n",
    "    test_norm = test_norm / 255.0\n",
    "    #return normalized images\n",
    "    return train_norm, test_norm"
   ]
  },
  {
   "cell_type": "markdown",
   "id": "46c46cbd",
   "metadata": {},
   "source": [
    "The model used as the base has 2 main aspects: the feature-extraction front-end, containing convolutional and pooling layers, and the classifier back-end that makes the prediction. <br>\n",
    "Within the front-end, testing has shown that using 32 feature maps and a 5x5 filter is optimal, followed by a max pooling layer. The result is then flattened to the back-end. <br>\n",
    "All layers will use the ReLU activation function and He weight initialisation scheme.<br>\n",
    "A dense layer of 100 nodes to interpret the features will be used, as 100 is optimal through testing.<br>\n",
    "Since there are 10 outputs, an output layer with 10 nodes will be used to predict the probability distribution, requiring a softmax activation function.\n",
    "<br><br>\n",
    "Defining the model, using 32 feature maps, 5x5 filter, 100 nodes, 0.01 learning rate, 0.9 momentum."
   ]
  },
  {
   "cell_type": "code",
   "execution_count": 4,
   "id": "e70081ff",
   "metadata": {},
   "outputs": [],
   "source": [
    "#define model\n",
    "def defineModel():\n",
    "    model = Sequential()\n",
    "    #setup number of filters, filter size, relu\n",
    "    model.add(Conv2D(32, (5, 5), activation='relu', kernel_initializer='he_uniform', input_shape=(28, 28, 1)))\n",
    "    model.add(MaxPooling2D((2, 2)))\n",
    "    model.add(Flatten())\n",
    "    #100 nodes, using relu\n",
    "    model.add(Dense(100, activation='relu', kernel_initializer='he_uniform'))\n",
    "    #using softmax for the 10 nodes\n",
    "    model.add(Dense(10, activation='softmax'))\n",
    "    #compile\n",
    "    #learning rate and momentum\n",
    "    opt = SGD(learning_rate=0.01, momentum=0.9)\n",
    "    model.compile(optimizer=opt, loss='categorical_crossentropy', metrics=['accuracy'])\n",
    "    return model"
   ]
  },
  {
   "cell_type": "markdown",
   "id": "a19d3674",
   "metadata": {},
   "source": [
    "The model is evalutated using 5 fold cross validation, which results in the test set accounting for 20% of the training dataset. <br>\n",
    "The dataset is also shuffled before being split. <br>\n",
    "The baseline model will have a default batch size of 32 examples for 10 epochs. <br>\n",
    "Each fold will also be evaluated against the test set to showcase the learning curves. <br><br>\n",
    "\n",
    "Model is being evaluated here, using a 5-fold cross-validation."
   ]
  },
  {
   "cell_type": "code",
   "execution_count": 5,
   "id": "b2f7afa4",
   "metadata": {},
   "outputs": [],
   "source": [
    "#evaluate model, with 5 folds\n",
    "def evaluateModel(dataX, dataY, n_folds=5):\n",
    "    scores, histories = list(), list()\n",
    "    #cross validation\n",
    "    kfold = KFold(n_folds, shuffle=True, random_state=1)\n",
    "    #enumerating splits\n",
    "    for train_ix, test_ix in kfold.split(dataX):\n",
    "        #define model\n",
    "        model = defineModel()\n",
    "        #training and testing rows\n",
    "        trainX, trainY, testX, testY = dataX[train_ix], dataY[train_ix], dataX[test_ix], dataY[test_ix]\n",
    "        #fit model, epochs, batch size\n",
    "        history = model.fit(trainX, trainY, epochs=10, batch_size=32, validation_data=(testX, testY), verbose=0)\n",
    "        #evaluate model\n",
    "        _, acc = model.evaluate(testX, testY, verbose=0)\n",
    "        print('> %.3f' % (acc * 100.0))\n",
    "        #stores scores\n",
    "        scores.append(acc)\n",
    "        histories.append(history)\n",
    "    return scores, histories"
   ]
  },
  {
   "cell_type": "markdown",
   "id": "6c05f8b4",
   "metadata": {},
   "source": [
    "To present the results, a plot can be shown for each fold to show the performance, through the loss and accuracy of the model, in order to show if the model is overfitting or underfitting.\n",
    "<br>\n",
    "We can show this through the performance on the training set (blue), and the performance on the test set (orange)\n"
   ]
  },
  {
   "cell_type": "code",
   "execution_count": 4,
   "id": "655f026e",
   "metadata": {},
   "outputs": [],
   "source": [
    "# plot learn curves\n",
    "def summarise(histories):\n",
    "    for i in range(len(histories)):\n",
    "        # plot loss\n",
    "        plt.subplot(2, 1, 1)\n",
    "        plt.title('Cross Entropy Loss')\n",
    "        plt.plot(histories[i].history['loss'], color='blue', label='train')\n",
    "        plt.plot(histories[i].history['val_loss'], color='orange', label='test')\n",
    "        # plot accuracy\n",
    "        plt.subplot(2, 1, 2)\n",
    "        plt.title('Classification Accuracy')\n",
    "        plt.plot(histories[i].history['accuracy'], color='blue', label='train')\n",
    "        plt.plot(histories[i].history['val_accuracy'], color='orange', label='test')\n",
    "    plt.show()"
   ]
  },
  {
   "cell_type": "markdown",
   "id": "322ce389",
   "metadata": {},
   "source": [
    "The mean and standard deviation can also be shown in a box plot, estimating the average performance of the model."
   ]
  },
  {
   "cell_type": "code",
   "execution_count": 5,
   "id": "97c557f4",
   "metadata": {},
   "outputs": [],
   "source": [
    "# summarize model performance\n",
    "def summariseModel(scores):\n",
    "    print('Accuracy: mean=%.3f std=%.3f, n=%d' % (py.mean(scores)*100, py.std(scores)*100, len(scores)))\n",
    "    #box and whisker plots of results\n",
    "    plt.boxplot(scores)\n",
    "    plt.show()"
   ]
  },
  {
   "cell_type": "code",
   "execution_count": 8,
   "id": "81ac3f6e",
   "metadata": {},
   "outputs": [
    {
     "name": "stdout",
     "output_type": "stream",
     "text": [
      "MNIST loaded\n",
      "> 98.650\n",
      "> 98.775\n",
      "> 98.667\n",
      "> 98.875\n",
      "> 99.033\n"
     ]
    }
   ],
   "source": [
    "#load dataset\n",
    "trainX, trainY, testX, testY = loadMNIST()\n",
    "#prepare pixel data\n",
    "trainX, testX = pixel(trainX, testX)\n",
    "#evaluate model\n",
    "scores, histories = evaluateModel(trainX, trainY)"
   ]
  },
  {
   "cell_type": "code",
   "execution_count": 9,
   "id": "dbd2405e",
   "metadata": {
    "scrolled": true
   },
   "outputs": [
    {
     "name": "stderr",
     "output_type": "stream",
     "text": [
      ".\n",
      "  \"\"\"\n",
      ".\n",
      "  .\n"
     ]
    },
    {
     "data": {
      "image/png": "[encoded data removed]",
      "text/plain": [
       "<Figure size 432x288 with 2 Axes>"
      ]
     },
     "metadata": {
      "needs_background": "light"
     },
     "output_type": "display_data"
    },
    {
     "name": "stdout",
     "output_type": "stream",
     "text": [
      "Accuracy: mean=98.800 std=0.142, n=5\n"
     ]
    },
    {
     "data": {
      "image/png": "[encoded data removed]",
      "text/plain": [
       "<Figure size 432x288 with 1 Axes>"
      ]
     },
     "metadata": {
      "needs_background": "light"
     },
     "output_type": "display_data"
    }
   ],
   "source": [
    "#learning curves\n",
    "summarise(histories)\n",
    "#summarize estimated performance\n",
    "summariseModel(scores)"
   ]
  },
  {
   "cell_type": "markdown",
   "id": "8c010746",
   "metadata": {},
   "source": [
    "Testing parameter notes for the base model (2 folds) (compared to mean accuracy): <br>\n",
    "Learning rate: <br>\n",
    "- 0.1 rate = 96.793%\n",
    "- 0.01 rate = 98.608%\n",
    "- 0.05 rate = 98.423%\n",
    "<br>\n",
    "Therefore 0.01 rate is optimal\n",
    "<br><br>\n",
    "Feature maps:\n",
    "- 32 maps = 98.608%\n",
    "- 64 maps = 98.380%\n",
    "- 16 maps = 98.358% <br>\n",
    "Therefore 32 maps is optimal\n",
    "<br> <br>\n",
    "Filter size:\n",
    "- 3x3 size = 98.608%\n",
    "- 1x1 size = 96.473%\n",
    "- 5x5 size = 98.767% <br>\n",
    "Therefore a filter size of 5x5 is optimal\n",
    "<br><br>\n",
    "Density:\n",
    "- 100 nodes = 98.767%\n",
    "- 50 nodes = 98.520%\n",
    "- 200 nodes  = 98.650% <br>\n",
    "Therefore 100 nodes is optimal"
   ]
  },
  {
   "cell_type": "markdown",
   "id": "1c22f4e0",
   "metadata": {},
   "source": [
    "## Batch Normalisation"
   ]
  },
  {
   "cell_type": "markdown",
   "id": "fbe9d616",
   "metadata": {},
   "source": [
    "To improve the base model, batch normalisation is used to change the distribution of the output layer, by standardising the outputs."
   ]
  },
  {
   "cell_type": "code",
   "execution_count": 8,
   "id": "eab564ff",
   "metadata": {},
   "outputs": [
    {
     "name": "stdout",
     "output_type": "stream",
     "text": [
      "ERROR! Session/line number was not unique in database. History logging moved to new session 162\n"
     ]
    }
   ],
   "source": [
    "#define model\n",
    "def defineBNModel():\n",
    "    model = Sequential()\n",
    "    #setup number of filters, filter size, relu\n",
    "    model.add(Conv2D(32, (5, 5), activation='relu', kernel_initializer='he_uniform', input_shape=(28, 28, 1)))\n",
    "    model.add(BatchNormalization())\n",
    "    model.add(MaxPooling2D((2, 2)))\n",
    "    #flatten\n",
    "    model.add(Flatten())\n",
    "    #100 nodes, using relu\n",
    "    model.add(Dense(100, activation='relu', kernel_initializer='he_uniform'))\n",
    "    model.add(BatchNormalization())\n",
    "    #using softmax for the 10 nodes\n",
    "    model.add(Dense(10, activation='softmax'))\n",
    "    # compile\n",
    "    #learning rate and momentum\n",
    "    opt = SGD(learning_rate=0.01, momentum=0.9)\n",
    "    model.compile(optimizer=opt, loss='categorical_crossentropy', metrics=['accuracy'])\n",
    "    return model"
   ]
  },
  {
   "cell_type": "code",
   "execution_count": 9,
   "id": "25926b94",
   "metadata": {},
   "outputs": [],
   "source": [
    "#evaluate model, with 5 folds\n",
    "def evaluateBNModel(dataX, dataY, n_folds=5):\n",
    "    scores, histories = list(), list()\n",
    "    #cross validation\n",
    "    kfold = KFold(n_folds, shuffle=True, random_state=1)\n",
    "    #enumerating splits\n",
    "    for train_ix, test_ix in kfold.split(dataX):\n",
    "        #define model\n",
    "        model = defineBNModel()\n",
    "        #training and testing rows\n",
    "        trainX, trainY, testX, testY = dataX[train_ix], dataY[train_ix], dataX[test_ix], dataY[test_ix]\n",
    "        #fit model, epochs, batch size\n",
    "        history = model.fit(trainX, trainY, epochs=10, batch_size=32, validation_data=(testX, testY), verbose=0)\n",
    "        #evaluate model\n",
    "        _, acc = model.evaluate(testX, testY, verbose=0)\n",
    "        print('> %.3f' % (acc * 100.0))\n",
    "        #stores scores\n",
    "        scores.append(acc)\n",
    "        histories.append(history)\n",
    "    return scores, histories"
   ]
  },
  {
   "cell_type": "code",
   "execution_count": 13,
   "id": "6fdb67d9",
   "metadata": {},
   "outputs": [
    {
     "name": "stdout",
     "output_type": "stream",
     "text": [
      "MNIST loaded\n",
      "> 98.792\n",
      "> 98.725\n",
      "> 98.783\n",
      "> 98.958\n",
      "> 98.800\n"
     ]
    }
   ],
   "source": [
    "#load dataset\n",
    "trainX, trainY, testX, testY = loadMNIST()\n",
    "#prepare pixel data\n",
    "trainX, testX = pixel(trainX, testX)\n",
    "#evaluate model\n",
    "scores, histories = evaluateBNModel(trainX, trainY)"
   ]
  },
  {
   "cell_type": "code",
   "execution_count": 15,
   "id": "f08355a5",
   "metadata": {},
   "outputs": [
    {
     "name": "stderr",
     "output_type": "stream",
     "text": [
      "C:\\Users\\issac\\anaconda3\\envs\\myenv\\lib\\site-packages\\ipykernel_launcher.py:5: MatplotlibDeprecationWarning: Adding an axes using the same arguments as a previous axes currently reuses the earlier instance.  In a future version, a new instance will always be created and returned.  Meanwhile, this warning can be suppressed, and the future behavior ensured, by passing a unique label to each axes instance.\n",
      "  \"\"\"\n",
      "C:\\Users\\issac\\anaconda3\\envs\\myenv\\lib\\site-packages\\ipykernel_launcher.py:10: MatplotlibDeprecationWarning: Adding an axes using the same arguments as a previous axes currently reuses the earlier instance.  In a future version, a new instance will always be created and returned.  Meanwhile, this warning can be suppressed, and the future behavior ensured, by passing a unique label to each axes instance.\n",
      "  # Remove the CWD from sys.path while we load stuff.\n"
     ]
    },
    {
     "data": {
      "image/png": "[encoded data removed]",
      "text/plain": [
       "<Figure size 432x288 with 2 Axes>"
      ]
     },
     "metadata": {
      "needs_background": "light"
     },
     "output_type": "display_data"
    },
    {
     "name": "stdout",
     "output_type": "stream",
     "text": [
      "Accuracy: mean=98.812 std=0.078, n=5\n"
     ]
    },
    {
     "data": {
      "image/png": "[encoded data removed]",
      "text/plain": [
       "<Figure size 432x288 with 1 Axes>"
      ]
     },
     "metadata": {
      "needs_background": "light"
     },
     "output_type": "display_data"
    }
   ],
   "source": [
    "#learning curves\n",
    "summarise(histories)\n",
    "#summarize estimated performance\n",
    "summariseModel(scores)"
   ]
  },
  {
   "cell_type": "markdown",
   "id": "8d9753ac",
   "metadata": {},
   "source": [
    "For batch normalisation, the learning rate will be tested (2 fold):\n",
    "- 0.01 = 98.710%\n",
    "- 0.1 = 98.490%\n",
    "- 0.05 = 98.427% <br>\n",
    "Therefore a learning rate of 0.01 is still optimal"
   ]
  },
  {
   "cell_type": "markdown",
   "id": "4ebe8605",
   "metadata": {},
   "source": [
    "## Dropout"
   ]
  },
  {
   "cell_type": "markdown",
   "id": "36fc92dd",
   "metadata": {},
   "source": [
    "To improve the model, we will use dropout. By testing and viewing other examples, we will use 40% dropout. : <br>\n",
    "https://www.kaggle.com/code/cdeotte/how-to-choose-cnn-architecture-mnist/notebook"
   ]
  },
  {
   "cell_type": "code",
   "execution_count": 16,
   "id": "f29992f7",
   "metadata": {},
   "outputs": [
    {
     "name": "stdout",
     "output_type": "stream",
     "text": [
      "ERROR! Session/line number was not unique in database. History logging moved to new session 164\n"
     ]
    }
   ],
   "source": [
    "#define model\n",
    "def defineDOModel():\n",
    "    #Dropout amount\n",
    "    dropped = 0.4\n",
    "    model = Sequential()\n",
    "    #setup number of filters, filter size, relu\n",
    "    model.add(Conv2D(32, (5, 5), activation='relu', kernel_initializer='he_uniform', input_shape=(28, 28, 1)))\n",
    "    model.add(MaxPooling2D((2, 2)))\n",
    "    model.add(Dropout(dropped))\n",
    "    #flatten\n",
    "    model.add(Flatten())\n",
    "    #100 nodes, using relu\n",
    "    model.add(Dense(100, activation='relu', kernel_initializer='he_uniform'))\n",
    "    model.add(Dropout(dropped))\n",
    "    #using softmax for the 10 nodes\n",
    "    model.add(Dense(10, activation='softmax'))\n",
    "    # compile\n",
    "    #learning rate and momentum\n",
    "    opt = SGD(learning_rate=0.01, momentum=0.9)\n",
    "    model.compile(optimizer=opt, loss='categorical_crossentropy', metrics=['accuracy'])\n",
    "    return model"
   ]
  },
  {
   "cell_type": "code",
   "execution_count": 19,
   "id": "4de7832a",
   "metadata": {},
   "outputs": [],
   "source": [
    "#evaluate model, with 5 folds\n",
    "def evaluateDOModel(dataX, dataY, n_folds=5):\n",
    "    scores, histories = list(), list()\n",
    "    # prepare cross validation\n",
    "    kfold = KFold(n_folds, shuffle=True, random_state=1)\n",
    "    # enumerate splits\n",
    "    for train_ix, test_ix in kfold.split(dataX):\n",
    "        #define model\n",
    "        model = defineDOModel()\n",
    "        # select rows for train and test\n",
    "        trainX, trainY, testX, testY = dataX[train_ix], dataY[train_ix], dataX[test_ix], dataY[test_ix]\n",
    "        # fit model, epochs, batch size\n",
    "        history = model.fit(trainX, trainY, epochs=10, batch_size=32, validation_data=(testX, testY), verbose=0)\n",
    "        # evaluate model\n",
    "        _, acc = model.evaluate(testX, testY, verbose=0)\n",
    "        print('> %.3f' % (acc * 100.0))\n",
    "        # stores scores\n",
    "        scores.append(acc)\n",
    "        histories.append(history)\n",
    "    return scores, histories"
   ]
  },
  {
   "cell_type": "code",
   "execution_count": 20,
   "id": "cd110b8b",
   "metadata": {},
   "outputs": [
    {
     "name": "stdout",
     "output_type": "stream",
     "text": [
      "MNIST loaded\n",
      "> 98.725\n",
      "> 98.892\n",
      "> 98.817\n",
      "> 98.908\n",
      "> 98.800\n"
     ]
    }
   ],
   "source": [
    "#load dataset\n",
    "trainX, trainY, testX, testY = loadMNIST()\n",
    "#prepare pixel data\n",
    "trainX, testX = pixel(trainX, testX)\n",
    "#evaluate model\n",
    "scores, histories = evaluateDOModel(trainX, trainY)"
   ]
  },
  {
   "cell_type": "code",
   "execution_count": 21,
   "id": "87aef6ca",
   "metadata": {},
   "outputs": [
    {
     "name": "stderr",
     "output_type": "stream",
     "text": [
      "C:\\Users\\issac\\anaconda3\\envs\\myenv\\lib\\site-packages\\ipykernel_launcher.py:5: MatplotlibDeprecationWarning: Adding an axes using the same arguments as a previous axes currently reuses the earlier instance.  In a future version, a new instance will always be created and returned.  Meanwhile, this warning can be suppressed, and the future behavior ensured, by passing a unique label to each axes instance.\n",
      "  \"\"\"\n",
      "C:\\Users\\issac\\anaconda3\\envs\\myenv\\lib\\site-packages\\ipykernel_launcher.py:10: MatplotlibDeprecationWarning: Adding an axes using the same arguments as a previous axes currently reuses the earlier instance.  In a future version, a new instance will always be created and returned.  Meanwhile, this warning can be suppressed, and the future behavior ensured, by passing a unique label to each axes instance.\n",
      "  # Remove the CWD from sys.path while we load stuff.\n"
     ]
    },
    {
     "data": {
      "image/png": "[encoded data removed]",
      "text/plain": [
       "<Figure size 432x288 with 2 Axes>"
      ]
     },
     "metadata": {
      "needs_background": "light"
     },
     "output_type": "display_data"
    },
    {
     "name": "stdout",
     "output_type": "stream",
     "text": [
      "Accuracy: mean=98.828 std=0.066, n=5\n"
     ]
    },
    {
     "data": {
      "image/png": "[encoded data removed]",
      "text/plain": [
       "<Figure size 432x288 with 1 Axes>"
      ]
     },
     "metadata": {
      "needs_background": "light"
     },
     "output_type": "display_data"
    }
   ],
   "source": [
    "#learning curves\n",
    "summarise(histories)\n",
    "#summarize estimated performance\n",
    "summariseModel(scores)"
   ]
  },
  {
   "cell_type": "markdown",
   "id": "001bdb82",
   "metadata": {},
   "source": [
    "For dropout, the amount dropped will be tested:\n",
    "- 0.5 = 98.523% \n",
    "- 0.4 = 98.850%\n",
    "- 0.3 = 98.593%\n",
    "- 0.2 = 98.733%\n",
    "- 0.1 = 98.690%<br>\n",
    "Therfore a dropout amount of 0.4 is optimal"
   ]
  },
  {
   "cell_type": "code",
   "execution_count": 10,
   "id": "c3e2371f",
   "metadata": {},
   "outputs": [
    {
     "name": "stdout",
     "output_type": "stream",
     "text": [
      "end\n"
     ]
    }
   ],
   "source": [
    "print(\"end\")"
   ]
  }
 ],
 "metadata": {
  "kernelspec": {
   "display_name": "Python 3",
   "language": "python",
   "name": "python3"
  },
  "language_info": {
   "codemirror_mode": {
    "name": "ipython",
    "version": 3
   },
   "file_extension": ".py",
   "mimetype": "text/x-python",
   "name": "python",
   "nbconvert_exporter": "python",
   "pygments_lexer": "ipython3",
   "version": "3.6.13"
  }
 },
 "nbformat": 4,
 "nbformat_minor": 5
}
